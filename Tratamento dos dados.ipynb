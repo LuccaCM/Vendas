{
 "cells": [
  {
   "cell_type": "markdown",
   "id": "c9664e14",
   "metadata": {},
   "source": [
    "# Instalando Bibliotecas"
   ]
  },
  {
   "cell_type": "code",
   "execution_count": 1,
   "id": "b8612f49",
   "metadata": {},
   "outputs": [
    {
     "name": "stdout",
     "output_type": "stream",
     "text": [
      "Collecting cx_Oracle\n",
      "  Downloading cx_Oracle-8.3.0-cp38-cp38-win_amd64.whl (219 kB)\n",
      "     ------------------------------------ 219.3/219.3 kB 836.4 kB/s eta 0:00:00\n",
      "Requirement already satisfied: pandas in c:\\users\\user\\anaconda3\\lib\\site-packages (1.2.4)\n",
      "Requirement already satisfied: openpyxl in c:\\users\\user\\anaconda3\\lib\\site-packages (3.0.7)\n",
      "Requirement already satisfied: pytz>=2017.3 in c:\\users\\user\\anaconda3\\lib\\site-packages (from pandas) (2021.1)\n",
      "Requirement already satisfied: numpy>=1.16.5 in c:\\users\\user\\anaconda3\\lib\\site-packages (from pandas) (1.20.1)\n",
      "Requirement already satisfied: python-dateutil>=2.7.3 in c:\\users\\user\\anaconda3\\lib\\site-packages (from pandas) (2.8.1)\n",
      "Requirement already satisfied: et-xmlfile in c:\\users\\user\\anaconda3\\lib\\site-packages (from openpyxl) (1.0.1)\n",
      "Requirement already satisfied: six>=1.5 in c:\\users\\user\\anaconda3\\lib\\site-packages (from python-dateutil>=2.7.3->pandas) (1.15.0)\n",
      "Installing collected packages: cx_Oracle\n",
      "Successfully installed cx_Oracle-8.3.0\n"
     ]
    },
    {
     "name": "stderr",
     "output_type": "stream",
     "text": [
      "WARNING: There was an error checking the latest version of pip.\n"
     ]
    }
   ],
   "source": [
    "!pip install cx_Oracle pandas openpyxl"
   ]
  },
  {
   "cell_type": "markdown",
   "id": "a0b46a2b",
   "metadata": {},
   "source": [
    "# Imports e Conexão"
   ]
  },
  {
   "cell_type": "code",
   "execution_count": 2,
   "id": "69fd5c85",
   "metadata": {},
   "outputs": [],
   "source": [
    "# Importação\n",
    "import pandas as pd\n",
    "import cx_Oracle"
   ]
  },
  {
   "cell_type": "code",
   "execution_count": 3,
   "id": "3401e394",
   "metadata": {},
   "outputs": [],
   "source": [
    "# Configuração de conexão\n",
    "usuario = 'vendas_produtos'\n",
    "senha = 'venda01x'\n",
    "host = 'localhost'\n",
    "porta = 1521\n",
    "servico = 'XEPDB1'\n",
    "\n",
    "dsn = cx_Oracle.makedsn(host, porta, service_name=servico)"
   ]
  },
  {
   "cell_type": "code",
   "execution_count": 4,
   "id": "0dfa461c",
   "metadata": {},
   "outputs": [
    {
     "name": "stdout",
     "output_type": "stream",
     "text": [
      "Conectado ao Oracle com sucesso!\n"
     ]
    }
   ],
   "source": [
    "# Conexão\n",
    "\n",
    "try:\n",
    "    conexao = cx_Oracle.connect(user=usuario, password=senha, dsn=dsn)\n",
    "    print(\"Conectado ao Oracle com sucesso!\")\n",
    "except Exception as e:\n",
    "    print(\"Erro ao conectar:\", e)"
   ]
  },
  {
   "cell_type": "markdown",
   "id": "26306405",
   "metadata": {},
   "source": [
    "# Consulta SQL e Carregamento dos Dados"
   ]
  },
  {
   "cell_type": "code",
   "execution_count": 34,
   "id": "ee4654c5",
   "metadata": {},
   "outputs": [],
   "source": [
    "# Consulta SQL\n",
    "\n",
    "query = \"\"\"\n",
    "SELECT \n",
    "    c.nome AS cliente,\n",
    "    c.cidade,\n",
    "    p.nome_produto,\n",
    "    p.categoria,\n",
    "    v.data_venda,\n",
    "    v.quantidade,\n",
    "    p.preco_unitario,\n",
    "    (v.quantidade * p.preco_unitario) AS total_venda\n",
    "FROM vendas v\n",
    "JOIN clientes c ON v.id_cliente = c.id_cliente\n",
    "JOIN produtos p ON v.id_produto = p.id_produto\n",
    "ORDER BY v.data_venda\n",
    "\"\"\""
   ]
  },
  {
   "cell_type": "code",
   "execution_count": 35,
   "id": "a02f5850",
   "metadata": {},
   "outputs": [],
   "source": [
    "# Leitura para DataFrame\n",
    "\n",
    "df = pd.read_sql(query, conexao)"
   ]
  },
  {
   "cell_type": "code",
   "execution_count": 36,
   "id": "0e7cc40e",
   "metadata": {},
   "outputs": [
    {
     "data": {
      "text/html": [
       "<div>\n",
       "<style scoped>\n",
       "    .dataframe tbody tr th:only-of-type {\n",
       "        vertical-align: middle;\n",
       "    }\n",
       "\n",
       "    .dataframe tbody tr th {\n",
       "        vertical-align: top;\n",
       "    }\n",
       "\n",
       "    .dataframe thead th {\n",
       "        text-align: right;\n",
       "    }\n",
       "</style>\n",
       "<table border=\"1\" class=\"dataframe\">\n",
       "  <thead>\n",
       "    <tr style=\"text-align: right;\">\n",
       "      <th></th>\n",
       "      <th>CLIENTE</th>\n",
       "      <th>CIDADE</th>\n",
       "      <th>NOME_PRODUTO</th>\n",
       "      <th>CATEGORIA</th>\n",
       "      <th>DATA_VENDA</th>\n",
       "      <th>QUANTIDADE</th>\n",
       "      <th>PRECO_UNITARIO</th>\n",
       "      <th>TOTAL_VENDA</th>\n",
       "    </tr>\n",
       "  </thead>\n",
       "  <tbody>\n",
       "    <tr>\n",
       "      <th>0</th>\n",
       "      <td>Ana</td>\n",
       "      <td>São Paulo</td>\n",
       "      <td>Notebook</td>\n",
       "      <td>Eletrônicos</td>\n",
       "      <td>2025-01-10</td>\n",
       "      <td>1</td>\n",
       "      <td>3500.0</td>\n",
       "      <td>3500</td>\n",
       "    </tr>\n",
       "    <tr>\n",
       "      <th>1</th>\n",
       "      <td>Bruno</td>\n",
       "      <td>Brasília</td>\n",
       "      <td>Cadeira Gamer</td>\n",
       "      <td>Móveis</td>\n",
       "      <td>2025-01-11</td>\n",
       "      <td>2</td>\n",
       "      <td>900.0</td>\n",
       "      <td>1800</td>\n",
       "    </tr>\n",
       "    <tr>\n",
       "      <th>2</th>\n",
       "      <td>Carlos</td>\n",
       "      <td>Rio de Janeiro</td>\n",
       "      <td>Notebook</td>\n",
       "      <td>Eletrônicos</td>\n",
       "      <td>2025-01-15</td>\n",
       "      <td>1</td>\n",
       "      <td>3500.0</td>\n",
       "      <td>3500</td>\n",
       "    </tr>\n",
       "    <tr>\n",
       "      <th>3</th>\n",
       "      <td>Carlos</td>\n",
       "      <td>Rio de Janeiro</td>\n",
       "      <td>Monitor 24\"</td>\n",
       "      <td>Eletrônicos</td>\n",
       "      <td>2025-01-16</td>\n",
       "      <td>2</td>\n",
       "      <td>1200.0</td>\n",
       "      <td>2400</td>\n",
       "    </tr>\n",
       "    <tr>\n",
       "      <th>4</th>\n",
       "      <td>Daniela</td>\n",
       "      <td>Salvador</td>\n",
       "      <td>Mouse Gamer</td>\n",
       "      <td>Acessórios</td>\n",
       "      <td>2025-02-02</td>\n",
       "      <td>1</td>\n",
       "      <td>250.0</td>\n",
       "      <td>250</td>\n",
       "    </tr>\n",
       "  </tbody>\n",
       "</table>\n",
       "</div>"
      ],
      "text/plain": [
       "   CLIENTE          CIDADE   NOME_PRODUTO    CATEGORIA DATA_VENDA  QUANTIDADE  \\\n",
       "0      Ana       São Paulo       Notebook  Eletrônicos 2025-01-10           1   \n",
       "1    Bruno        Brasília  Cadeira Gamer       Móveis 2025-01-11           2   \n",
       "2   Carlos  Rio de Janeiro       Notebook  Eletrônicos 2025-01-15           1   \n",
       "3   Carlos  Rio de Janeiro    Monitor 24\"  Eletrônicos 2025-01-16           2   \n",
       "4  Daniela        Salvador    Mouse Gamer   Acessórios 2025-02-02           1   \n",
       "\n",
       "   PRECO_UNITARIO  TOTAL_VENDA  \n",
       "0          3500.0         3500  \n",
       "1           900.0         1800  \n",
       "2          3500.0         3500  \n",
       "3          1200.0         2400  \n",
       "4           250.0          250  "
      ]
     },
     "execution_count": 36,
     "metadata": {},
     "output_type": "execute_result"
    }
   ],
   "source": [
    "df.head()"
   ]
  },
  {
   "cell_type": "markdown",
   "id": "489d1752",
   "metadata": {},
   "source": [
    "# Tratando os Dados"
   ]
  },
  {
   "cell_type": "code",
   "execution_count": 38,
   "id": "b117e62e",
   "metadata": {},
   "outputs": [],
   "source": [
    "#Converter coluna em data\n",
    "\n",
    "df['DATA_VENDA'] = pd.to_datetime(df['DATA_VENDA'])"
   ]
  },
  {
   "cell_type": "code",
   "execution_count": 39,
   "id": "d235f6a2",
   "metadata": {},
   "outputs": [],
   "source": [
    "df['MES_ANO'] = df['DATA_VENDA'].dt.to_period('M')"
   ]
  },
  {
   "cell_type": "code",
   "execution_count": 40,
   "id": "f4a7cecb",
   "metadata": {},
   "outputs": [
    {
     "data": {
      "text/plain": [
       "CLIENTE                   object\n",
       "CIDADE                    object\n",
       "NOME_PRODUTO              object\n",
       "CATEGORIA                 object\n",
       "DATA_VENDA        datetime64[ns]\n",
       "QUANTIDADE                 int64\n",
       "PRECO_UNITARIO           float64\n",
       "TOTAL_VENDA                int64\n",
       "MES_ANO                period[M]\n",
       "dtype: object"
      ]
     },
     "execution_count": 40,
     "metadata": {},
     "output_type": "execute_result"
    }
   ],
   "source": [
    "# Verificando os tipos\n",
    "df.dtypes"
   ]
  },
  {
   "cell_type": "markdown",
   "id": "c9ac876f",
   "metadata": {},
   "source": [
    "# Exportando para CSV e Excel"
   ]
  },
  {
   "cell_type": "code",
   "execution_count": 41,
   "id": "61a236a5",
   "metadata": {},
   "outputs": [
    {
     "name": "stdout",
     "output_type": "stream",
     "text": [
      "Dados exportados com sucesso!\n"
     ]
    }
   ],
   "source": [
    "# Dados CSV\n",
    "df.to_csv(\"vendas_tratadas.csv\", index=False)\n",
    "\n",
    "print(\"Dados exportados com sucesso!\")"
   ]
  },
  {
   "cell_type": "code",
   "execution_count": 43,
   "id": "49ba0713",
   "metadata": {},
   "outputs": [
    {
     "name": "stdout",
     "output_type": "stream",
     "text": [
      "Dados exportados com sucesso!\n"
     ]
    }
   ],
   "source": [
    "# Dados Excel\n",
    "df.to_excel(\"vendas_tratadas.xlsx\", index=False)\n",
    "\n",
    "print(\"Dados exportados com sucesso!\")"
   ]
  }
 ],
 "metadata": {
  "kernelspec": {
   "display_name": "Python 3",
   "language": "python",
   "name": "python3"
  },
  "language_info": {
   "codemirror_mode": {
    "name": "ipython",
    "version": 3
   },
   "file_extension": ".py",
   "mimetype": "text/x-python",
   "name": "python",
   "nbconvert_exporter": "python",
   "pygments_lexer": "ipython3",
   "version": "3.8.8"
  }
 },
 "nbformat": 4,
 "nbformat_minor": 5
}
